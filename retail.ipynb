version https://git-lfs.github.com/spec/v1
oid sha256:5293f9adf9856227a365a878d20d3e57d31b7da53c50c512daabecacbc73b944
size 3371592
